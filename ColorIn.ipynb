{
  "nbformat": 4,
  "nbformat_minor": 0,
  "metadata": {
    "colab": {
      "provenance": [],
      "collapsed_sections": [
        "YeBG-zPNga5i"
      ],
      "authorship_tag": "ABX9TyMGVp9pHOZmbBSPt95DvrLG",
      "include_colab_link": true
    },
    "kernelspec": {
      "name": "python3",
      "display_name": "Python 3"
    },
    "language_info": {
      "name": "python"
    }
  },
  "cells": [
    {
      "cell_type": "markdown",
      "metadata": {
        "id": "view-in-github",
        "colab_type": "text"
      },
      "source": [
        "<a href=\"https://colab.research.google.com/github/csorgod/ColorIn/blob/main/ColorIn.ipynb\" target=\"_parent\"><img src=\"https://colab.research.google.com/assets/colab-badge.svg\" alt=\"Open In Colab\"/></a>"
      ]
    },
    {
      "cell_type": "markdown",
      "source": [
        "# Color In: Smart color explainer\n",
        "\n",
        "Estima-se que 1 em cada 12 homens e 1 em cada 200 mulheres possui algum grau de daltonismo. No Brasil, cerca de 16 milhões de pessoas sofrem com a dificuldade em enxergar cores. Essa condição genética pode se encontrar em três diferentes tipos:\n",
        "\n",
        "* Deuteranopia (cegueira ao verde), afetando cerca de 4,5% da população masculina e 0,2% da população feminina;\n",
        "\n",
        "* Protanopia (cegueira ao vermelho) é menos comum, afetando cerca de 1% da população masculina e 0,05% da população feminina; e\n",
        "\n",
        "* Acromatopsia (cegueira total à cor) é a forma mais rara, afetando menos de 0,01% da população.\n",
        "\n",
        "Este projeto criado em cima das APIs do Google Gemini tem como propósito auxiliar pessoas daltônicas a identificar as cores em imagens.\n",
        "\n",
        "\n",
        "O projeto utiliza a API do Vision AI para analisar imagens e identificar as cores predominantes. Em seguida, utiliza a API do Vertex AI para classificar o tipo de daltonismo do usuário, com base em uma imagem do rosto do usuário. Com base no tipo de daltonismo e nas cores identificadas na imagem, o projeto gera uma descrição acessível das cores para o usuário.\n",
        "\n",
        "O projeto tem como objetivo melhorar a qualidade de vida das pessoas com daltonismo, facilitando a percepção de cores em diversas situações do dia a dia, como identificar objetos coloridos, interpretar sinais de trânsito e ler mapas e gráficos."
      ],
      "metadata": {
        "id": "LDnElYqmETjQ"
      }
    },
    {
      "cell_type": "markdown",
      "source": [
        "## Pré configuração"
      ],
      "metadata": {
        "id": "CqCB8PYHfq6v"
      }
    },
    {
      "cell_type": "code",
      "source": [
        "# Instalando pacotes\n",
        "!pip install -q -U google-generativeai\n",
        "!pip install -q -U google-cloud-aiplatform"
      ],
      "metadata": {
        "id": "5fIxiToYGPiy"
      },
      "execution_count": 25,
      "outputs": []
    },
    {
      "cell_type": "code",
      "execution_count": 61,
      "metadata": {
        "id": "l_DLISI5DHF6"
      },
      "outputs": [],
      "source": [
        "# Importando bibliotecas\n",
        "\n",
        "from IPython.display import Image\n",
        "\n",
        "from google.colab import files\n",
        "from google.colab import userdata\n",
        "import google.generativeai as genai"
      ]
    },
    {
      "cell_type": "code",
      "source": [
        "# Configurando o projeto e as APIs\n",
        "\n",
        "GOOGLE_API_KEY = userdata.get('GOOGLE_API_KEY')\n",
        "genai.configure(api_key = GOOGLE_API_KEY)"
      ],
      "metadata": {
        "id": "qxqamF6zHd7M"
      },
      "execution_count": 27,
      "outputs": []
    },
    {
      "cell_type": "code",
      "source": [
        "\"\"\"\n",
        "Usaremos o Gemini 1.5 pro por ser multimodal e capaz de descrever imagens.\n",
        "Conforme dito em aula, não é possível alterar os parametros do modelo.\n",
        "Entretanto, deixaremos o trecho de código abaixo para um futuro próximo, onde o\n",
        "modelo aceitará customizações.\n",
        "\"\"\"\n",
        "generation_config = {\n",
        "    \"candidate_count\": 1,\n",
        "    \"top_p\": 0.95,\n",
        "    \"top_k\": 0,\n",
        "    \"max_output_tokens\": 1048,\n",
        "    \"temperature\": .2\n",
        "}\n",
        "\n",
        "\"\"\"\n",
        "Não será necessário definir configurações de segurança específicas para o case.\n",
        "Usaremos o padrão do modelo. Entretanto, caso queira customizá-las, pode usar\n",
        "o trecho abaixo\n",
        "\"\"\"\n",
        "safety_settings = {\n",
        "    \"HARASSMENT\": \"BLOCK_NONE\",\n",
        "    \"HATE\": \"BLOCK_NONE\",\n",
        "    \"SEXUAL\": \"BLOCK_NONE\",\n",
        "    \"DANGEROUS\": \"BLOCK_NONE\",\n",
        "}"
      ],
      "metadata": {
        "id": "tCn9rP60nM57"
      },
      "execution_count": 56,
      "outputs": []
    },
    {
      "cell_type": "code",
      "source": [
        "model = genai.GenerativeModel(model_name = \"gemini-1.5-pro-latest\",\n",
        "                              generation_config = generation_config)"
      ],
      "metadata": {
        "id": "F1_2xHT9hUi7"
      },
      "execution_count": 62,
      "outputs": []
    },
    {
      "cell_type": "markdown",
      "source": [
        "## 1. Começe por aqui\n",
        "\n",
        "### Para começar, faça o upload de uma imagem do seu computador.\n",
        "\n",
        "Essa imagem será usada para exemplificar o funcionamento do projeto. É importante escolher uma imagem colorida, de preferencia com cores vermelhas, verdes, marrons, azuis e amarelas. Essas cores representam as principais deficiências em daltonismo. Você poderá escolher o tipo de daltonismo mais à frente para testar."
      ],
      "metadata": {
        "id": "vvXeYoJRfubJ"
      }
    },
    {
      "cell_type": "code",
      "source": [
        "# Faça upload de uma imagem\n",
        "uploaded = files.upload()\n",
        "imagem_path = list(uploaded.keys())[0]\n",
        "\n",
        "# Lendo imagem\n",
        "with open(imagem_path, 'rb') as f:\n",
        "    image_data = f.read()\n",
        "\n",
        "Image(data = image_data)"
      ],
      "metadata": {
        "colab": {
          "base_uri": "https://localhost:8080/",
          "height": 257
        },
        "id": "kpGy826lNeOL",
        "outputId": "ab2ce512-fe72-4ee1-f2f8-84f2b292292c"
      },
      "execution_count": 66,
      "outputs": [
        {
          "output_type": "display_data",
          "data": {
            "text/plain": [
              "<IPython.core.display.HTML object>"
            ],
            "text/html": [
              "\n",
              "     <input type=\"file\" id=\"files-716e0233-efbf-4a77-9681-ace8a34dda01\" name=\"files[]\" multiple disabled\n",
              "        style=\"border:none\" />\n",
              "     <output id=\"result-716e0233-efbf-4a77-9681-ace8a34dda01\">\n",
              "      Upload widget is only available when the cell has been executed in the\n",
              "      current browser session. Please rerun this cell to enable.\n",
              "      </output>\n",
              "      <script>// Copyright 2017 Google LLC\n",
              "//\n",
              "// Licensed under the Apache License, Version 2.0 (the \"License\");\n",
              "// you may not use this file except in compliance with the License.\n",
              "// You may obtain a copy of the License at\n",
              "//\n",
              "//      http://www.apache.org/licenses/LICENSE-2.0\n",
              "//\n",
              "// Unless required by applicable law or agreed to in writing, software\n",
              "// distributed under the License is distributed on an \"AS IS\" BASIS,\n",
              "// WITHOUT WARRANTIES OR CONDITIONS OF ANY KIND, either express or implied.\n",
              "// See the License for the specific language governing permissions and\n",
              "// limitations under the License.\n",
              "\n",
              "/**\n",
              " * @fileoverview Helpers for google.colab Python module.\n",
              " */\n",
              "(function(scope) {\n",
              "function span(text, styleAttributes = {}) {\n",
              "  const element = document.createElement('span');\n",
              "  element.textContent = text;\n",
              "  for (const key of Object.keys(styleAttributes)) {\n",
              "    element.style[key] = styleAttributes[key];\n",
              "  }\n",
              "  return element;\n",
              "}\n",
              "\n",
              "// Max number of bytes which will be uploaded at a time.\n",
              "const MAX_PAYLOAD_SIZE = 100 * 1024;\n",
              "\n",
              "function _uploadFiles(inputId, outputId) {\n",
              "  const steps = uploadFilesStep(inputId, outputId);\n",
              "  const outputElement = document.getElementById(outputId);\n",
              "  // Cache steps on the outputElement to make it available for the next call\n",
              "  // to uploadFilesContinue from Python.\n",
              "  outputElement.steps = steps;\n",
              "\n",
              "  return _uploadFilesContinue(outputId);\n",
              "}\n",
              "\n",
              "// This is roughly an async generator (not supported in the browser yet),\n",
              "// where there are multiple asynchronous steps and the Python side is going\n",
              "// to poll for completion of each step.\n",
              "// This uses a Promise to block the python side on completion of each step,\n",
              "// then passes the result of the previous step as the input to the next step.\n",
              "function _uploadFilesContinue(outputId) {\n",
              "  const outputElement = document.getElementById(outputId);\n",
              "  const steps = outputElement.steps;\n",
              "\n",
              "  const next = steps.next(outputElement.lastPromiseValue);\n",
              "  return Promise.resolve(next.value.promise).then((value) => {\n",
              "    // Cache the last promise value to make it available to the next\n",
              "    // step of the generator.\n",
              "    outputElement.lastPromiseValue = value;\n",
              "    return next.value.response;\n",
              "  });\n",
              "}\n",
              "\n",
              "/**\n",
              " * Generator function which is called between each async step of the upload\n",
              " * process.\n",
              " * @param {string} inputId Element ID of the input file picker element.\n",
              " * @param {string} outputId Element ID of the output display.\n",
              " * @return {!Iterable<!Object>} Iterable of next steps.\n",
              " */\n",
              "function* uploadFilesStep(inputId, outputId) {\n",
              "  const inputElement = document.getElementById(inputId);\n",
              "  inputElement.disabled = false;\n",
              "\n",
              "  const outputElement = document.getElementById(outputId);\n",
              "  outputElement.innerHTML = '';\n",
              "\n",
              "  const pickedPromise = new Promise((resolve) => {\n",
              "    inputElement.addEventListener('change', (e) => {\n",
              "      resolve(e.target.files);\n",
              "    });\n",
              "  });\n",
              "\n",
              "  const cancel = document.createElement('button');\n",
              "  inputElement.parentElement.appendChild(cancel);\n",
              "  cancel.textContent = 'Cancel upload';\n",
              "  const cancelPromise = new Promise((resolve) => {\n",
              "    cancel.onclick = () => {\n",
              "      resolve(null);\n",
              "    };\n",
              "  });\n",
              "\n",
              "  // Wait for the user to pick the files.\n",
              "  const files = yield {\n",
              "    promise: Promise.race([pickedPromise, cancelPromise]),\n",
              "    response: {\n",
              "      action: 'starting',\n",
              "    }\n",
              "  };\n",
              "\n",
              "  cancel.remove();\n",
              "\n",
              "  // Disable the input element since further picks are not allowed.\n",
              "  inputElement.disabled = true;\n",
              "\n",
              "  if (!files) {\n",
              "    return {\n",
              "      response: {\n",
              "        action: 'complete',\n",
              "      }\n",
              "    };\n",
              "  }\n",
              "\n",
              "  for (const file of files) {\n",
              "    const li = document.createElement('li');\n",
              "    li.append(span(file.name, {fontWeight: 'bold'}));\n",
              "    li.append(span(\n",
              "        `(${file.type || 'n/a'}) - ${file.size} bytes, ` +\n",
              "        `last modified: ${\n",
              "            file.lastModifiedDate ? file.lastModifiedDate.toLocaleDateString() :\n",
              "                                    'n/a'} - `));\n",
              "    const percent = span('0% done');\n",
              "    li.appendChild(percent);\n",
              "\n",
              "    outputElement.appendChild(li);\n",
              "\n",
              "    const fileDataPromise = new Promise((resolve) => {\n",
              "      const reader = new FileReader();\n",
              "      reader.onload = (e) => {\n",
              "        resolve(e.target.result);\n",
              "      };\n",
              "      reader.readAsArrayBuffer(file);\n",
              "    });\n",
              "    // Wait for the data to be ready.\n",
              "    let fileData = yield {\n",
              "      promise: fileDataPromise,\n",
              "      response: {\n",
              "        action: 'continue',\n",
              "      }\n",
              "    };\n",
              "\n",
              "    // Use a chunked sending to avoid message size limits. See b/62115660.\n",
              "    let position = 0;\n",
              "    do {\n",
              "      const length = Math.min(fileData.byteLength - position, MAX_PAYLOAD_SIZE);\n",
              "      const chunk = new Uint8Array(fileData, position, length);\n",
              "      position += length;\n",
              "\n",
              "      const base64 = btoa(String.fromCharCode.apply(null, chunk));\n",
              "      yield {\n",
              "        response: {\n",
              "          action: 'append',\n",
              "          file: file.name,\n",
              "          data: base64,\n",
              "        },\n",
              "      };\n",
              "\n",
              "      let percentDone = fileData.byteLength === 0 ?\n",
              "          100 :\n",
              "          Math.round((position / fileData.byteLength) * 100);\n",
              "      percent.textContent = `${percentDone}% done`;\n",
              "\n",
              "    } while (position < fileData.byteLength);\n",
              "  }\n",
              "\n",
              "  // All done.\n",
              "  yield {\n",
              "    response: {\n",
              "      action: 'complete',\n",
              "    }\n",
              "  };\n",
              "}\n",
              "\n",
              "scope.google = scope.google || {};\n",
              "scope.google.colab = scope.google.colab || {};\n",
              "scope.google.colab._files = {\n",
              "  _uploadFiles,\n",
              "  _uploadFilesContinue,\n",
              "};\n",
              "})(self);\n",
              "</script> "
            ]
          },
          "metadata": {}
        },
        {
          "output_type": "stream",
          "name": "stdout",
          "text": [
            "Saving pic_2.jpg to pic_2.jpg\n"
          ]
        },
        {
          "output_type": "execute_result",
          "data": {
            "image/jpeg": "[encoded data removed]",
            "text/plain": [
              "<IPython.core.display.Image object>"
            ]
          },
          "metadata": {},
          "execution_count": 66
        }
      ]
    },
    {
      "cell_type": "markdown",
      "source": [
        "Gostou da imagem? Caso não tenha ficado legal, execute novamente a célula acima para escolher outra foto."
      ],
      "metadata": {
        "id": "qeD7gX_LgR0Z"
      }
    },
    {
      "cell_type": "markdown",
      "source": [
        "## 2. Parametrizando o modelo\n",
        "Nesta etapa, iremos configurar o sistema de acordo com suas necessidades. Ainda não estamos falando de configurações do modelo. Essa parametrização será usada para detectar as suas necessidades como uma pessoa daltônica."
      ],
      "metadata": {
        "id": "YeBG-zPNga5i"
      }
    },
    {
      "cell_type": "code",
      "source": [
        "# prompt: Ask for the user to select one between four options: Deuteranopia, Protanopia, Tritanopia or Acromatopsia\n",
        "\n",
        "color_blindness = {\n",
        "  1: \"Deuteranopia\",\n",
        "  2: \"Protanopia\",\n",
        "  3: \"Tritanopia\",\n",
        "  4: \"Acromatopsia\"\n",
        "}\n",
        "\n",
        "selection = input(\"Qual o seu tipo de daltonismo? Selecione um número. \\n1. Deuteranopia \\n2. Protanopia \\n3. Tritanopia \\n4. Acromatopsia \\n\\n\")\n",
        "\n",
        "while int(selection) not in (1, 2, 3, 4):\n",
        "  print(\"Você selecionou uma opção incorreta.\")\n",
        "  selection = input(\"Qual o seu tipo de daltonismo? \\n1. Deuteranopia \\n2. Protanopia \\n3. Tritanopia \\n4. Acromatopsia \\n\\n\")\n",
        "\n",
        "cb_type = color_blindness[int(selection)]\n",
        "\n",
        "print(f\"Entendido! Seu daltonismo é do tipo {cb_type}\")"
      ],
      "metadata": {
        "colab": {
          "base_uri": "https://localhost:8080/"
        },
        "id": "ip_TyRenfFYT",
        "outputId": "3783ca03-f353-4471-f43b-5c2b978d8a28"
      },
      "execution_count": 55,
      "outputs": [
        {
          "output_type": "stream",
          "name": "stdout",
          "text": [
            "Qual o seu tipo de daltonismo? Selecione um número. \n",
            "1. Deuteranopia \n",
            "2. Protanopia \n",
            "3. Tritanopia \n",
            "4. Acromatopsia \n",
            "\n",
            "1\n",
            "Entendido! Seu daltonismo é do tipo Deuteranopia\n"
          ]
        }
      ]
    },
    {
      "cell_type": "markdown",
      "source": [
        "## 3. Solicitação ao modelo"
      ],
      "metadata": {
        "id": "wA3pEzM5r3Rw"
      }
    },
    {
      "cell_type": "code",
      "source": [
        "genai.upload_file(imagem_path)\n",
        "response = model.generate_content()\n",
        "\n",
        "response.text"
      ],
      "metadata": {
        "colab": {
          "base_uri": "https://localhost:8080/",
          "height": 35
        },
        "id": "Kl6s0zpdopDw",
        "outputId": "8c9d9bc7-1ad4-48ea-f52d-51653b3ad534"
      },
      "execution_count": 68,
      "outputs": [
        {
          "output_type": "execute_result",
          "data": {
            "text/plain": [
              "'Por favor, forneça a imagem para que eu possa descrever os elementos e as cores presentes nela. 😊 \\n'"
            ],
            "application/vnd.google.colaboratory.intrinsic+json": {
              "type": "string"
            }
          },
          "metadata": {},
          "execution_count": 68
        }
      ]
    },
    {
      "cell_type": "code",
      "source": [
        "chat = model.start_chat(history=[\n",
        "    {\n",
        "      \"role\": \"user\",\n",
        "      \"parts\": [f\"{genai.upload_file(imagem_path)}\"]\n",
        "    }])\n",
        "\n",
        "\n",
        "response = chat.send_message(\"Descreva os elementos e as cores na imagem\")"
      ],
      "metadata": {
        "id": "cFysGRQ3uHU8"
      },
      "execution_count": 73,
      "outputs": []
    },
    {
      "cell_type": "code",
      "source": [
        "response.text"
      ],
      "metadata": {
        "colab": {
          "base_uri": "https://localhost:8080/",
          "height": 87
        },
        "id": "tU8SQI0_uvOX",
        "outputId": "12b01e3b-69e3-4053-ee67-72c2aa8b2f37"
      },
      "execution_count": 74,
      "outputs": [
        {
          "output_type": "execute_result",
          "data": {
            "text/plain": [
              "'Por favor, forneça mais contexto ou informações. Não consigo ver a imagem que você está descrevendo. \\n\\nPara que eu possa descrever os elementos e as cores na imagem, preciso que você me forneça a imagem em si. Você pode:\\n\\n* **Descrever a imagem com suas palavras:** Detalhe o que você vê na imagem, incluindo os objetos, pessoas, cores, etc.\\n* **Fornecer um link para a imagem:** Se a imagem estiver online, compartilhe o link para que eu possa acessá-la.\\n* **Carregar a imagem:** Se a imagem estiver salva em seu dispositivo, você pode carregá-la aqui.\\n\\nAssim que eu tiver acesso à imagem, poderei descrevê-la para você. \\n'"
            ],
            "application/vnd.google.colaboratory.intrinsic+json": {
              "type": "string"
            }
          },
          "metadata": {},
          "execution_count": 74
        }
      ]
    },
    {
      "cell_type": "code",
      "source": [],
      "metadata": {
        "id": "vzPLObJZwsql"
      },
      "execution_count": null,
      "outputs": []
    }
  ]
}